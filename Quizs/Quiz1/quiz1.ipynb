{
 "cells": [
  {
   "cell_type": "code",
   "execution_count": 2,
   "id": "accurate-coordinate",
   "metadata": {},
   "outputs": [],
   "source": [
    "import numpy as np\n",
    "import matplotlib.pyplot as plt\n",
    "import pandas as pd\n"
   ]
  },
  {
   "cell_type": "code",
   "execution_count": 11,
   "id": "integral-arctic",
   "metadata": {},
   "outputs": [
    {
     "data": {
      "text/plain": [
       "<bound method NDFrame.head of         0.9317189805776385   50.94283197947629   2596.040230347921\n",
       "0                 0.796997           50.312938         2532.026902\n",
       "1                 1.115603           50.156194         2516.888332\n",
       "2                 1.064629           50.774814         2579.215190\n",
       "3                 1.796804           50.055668         2508.798424\n",
       "4                 1.261743           50.522134         2554.078001\n",
       "...                    ...                 ...                 ...\n",
       "159994           99.500647          200.190256        49976.517321\n",
       "159995           99.720694          200.278968        50055.881792\n",
       "159996           99.927517          200.740081        50282.088778\n",
       "159997          100.119925          200.831178        50357.161540\n",
       "159998          100.062230          200.797175        50331.955282\n",
       "\n",
       "[159999 rows x 3 columns]>"
      ]
     },
     "execution_count": 11,
     "metadata": {},
     "output_type": "execute_result"
    }
   ],
   "source": [
    "dataset = pd.read_csv('./data/dat.csv')\n",
    "dataset.head"
   ]
  },
  {
   "cell_type": "code",
   "execution_count": 13,
   "id": "objective-florence",
   "metadata": {},
   "outputs": [],
   "source": [
    "X = dataset.iloc[:,0:2]\n",
    "y = dataset.iloc[:,2]"
   ]
  }
 ],
 "metadata": {
  "kernelspec": {
   "display_name": "Python 3",
   "language": "python",
   "name": "python3"
  },
  "language_info": {
   "codemirror_mode": {
    "name": "ipython",
    "version": 3
   },
   "file_extension": ".py",
   "mimetype": "text/x-python",
   "name": "python",
   "nbconvert_exporter": "python",
   "pygments_lexer": "ipython3",
   "version": "3.8.5"
  }
 },
 "nbformat": 4,
 "nbformat_minor": 5
}
